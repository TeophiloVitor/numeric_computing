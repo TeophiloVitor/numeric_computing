{
  "nbformat": 4,
  "nbformat_minor": 0,
  "metadata": {
    "colab": {
      "provenance": [],
      "toc_visible": true
    },
    "kernelspec": {
      "display_name": "Python 3",
      "name": "python3"
    }
  },
  "cells": [
    {
      "cell_type": "markdown",
      "metadata": {
        "id": "5MXXXpmtxOkP"
      },
      "source": [
        "<h1>Introduçao ao Python</h1>\n",
        "\n",
        "##\t**Variáveis Inteiras e Reais**\n",
        "\n",
        "  Não é necessário declarar o tipo:"
      ]
    },
    {
      "cell_type": "code",
      "metadata": {
        "id": "XNrZnyudjFBn"
      },
      "source": [
        "x = 1; y = 2.5      #cria duas variaveis (“;” separa dois comandos)\n",
        "z = x + 2*y     #guarda o resultado na variável z\n",
        "print(y)\n",
        "z           #visualiza o valor de z"
      ],
      "execution_count": null,
      "outputs": []
    },
    {
      "cell_type": "markdown",
      "metadata": {
        "id": "tBSz1t8SjIi2"
      },
      "source": [
        "Outra forma de imprimir é utilizar o comando print (as vezes digitar apenas o nome da variavel não imprime seu valor aqui no colaboratory):"
      ]
    },
    {
      "cell_type": "code",
      "metadata": {
        "id": "JHXW_6aQjPNW"
      },
      "source": [
        "print('z= ', z) #variavel z do trecho de codigo acima continua existindo\n",
        "print(z**2)     #elevado ao quadrado\n",
        "print(z**(1/2)) #raiz"
      ],
      "execution_count": null,
      "outputs": []
    },
    {
      "cell_type": "markdown",
      "metadata": {
        "id": "-hrIyZ-LjRbC"
      },
      "source": [
        "Observe que o trecho de codigo acima só funciona caso o trecho anterior, onde criamos a variável z, seja executado anteriormente. \n",
        "\n",
        "Para acessar constantes matemáticas (e várioas operações matemáticas como veremos asseguir), devemos importar uma biblioteca chamada numpy:"
      ]
    },
    {
      "cell_type": "code",
      "metadata": {
        "id": "xmooVH_YxThj"
      },
      "source": [
        "import numpy as np\t#importa biblioteca numérica\n",
        "\n",
        "print(np.pi)\t    \t\t#constante π\n",
        "np.e\t\t\t#constante: número de Neper ou Euler"
      ],
      "execution_count": null,
      "outputs": []
    },
    {
      "cell_type": "markdown",
      "metadata": {
        "id": "1TfjT8Kyjosk"
      },
      "source": [
        "## **Vetores e Matrizes**\n",
        "\n",
        "Podemos declarar vetores diretamente no python, contudo tais objetos serão apenas um conjunto de variáveis, e não um vetor no sentido matemático, e portanto não podem ser operados como tal:"
      ]
    },
    {
      "cell_type": "code",
      "metadata": {
        "id": "JT6ruGq3j_pa"
      },
      "source": [
        "x = [1, 2, 3]\t\t#array (não é um “objeto matematico”)\n",
        "y = [4, 5, 6]\n",
        "x+y\t\t\t#concatena os arrays"
      ],
      "execution_count": null,
      "outputs": []
    },
    {
      "cell_type": "markdown",
      "metadata": {
        "id": "jIgI2vLRkGPg"
      },
      "source": [
        "Para criar vetores e matrizes que podem ser operados, iremos utilizar mais um vez a biblioteca numérica numpy:"
      ]
    },
    {
      "cell_type": "code",
      "metadata": {
        "id": "qsKIzPZImGqb"
      },
      "source": [
        "import numpy as np\t#importa biblioteca numérica. como ja foi feito mais acima, nao seria necessario importar novamente\n",
        "\n",
        "x = np.array([1, 2, 3])\t#cria um vetor linha (“objeto matematico”)\n",
        "y = np.array([4, 5, 6])\n",
        "print(x + y)\n",
        "c = np.array([[1], [2], [3]])  #vetor coluna\n",
        "print(c)\n",
        "print('tentativa de adicionar vetores com dimensoes imcompatíveis:\\n', x + c) \t\t\t#tenta adicionar vetores de tamanhos diferentes\n",
        "print('soma com dimensões compatíveis:\\n ',x + np.transpose(c))\t#adicina x com c transposto \n",
        "print('multiplicação matricial entre vetores de dimensoes compatíveis:\\n',x.dot(c))\t\t#linha vezes coluna\n",
        "print('Multiplicação ponto a ponto:\\n', x*y)\t\t\t\n",
        "print('Outra forma de fazer a multiplicação ponto a ponto:\\n',np.multiply(x,y))\t#operação ponto a ponto\n",
        "v = np.array([1,2,3])\n",
        "v = np.concatenate((v,np.array([4,5,6])), axis=0)\n",
        "print('Concatenado: ', v)"
      ],
      "execution_count": null,
      "outputs": []
    },
    {
      "cell_type": "markdown",
      "metadata": {
        "id": "NF6NsEBfmMN4"
      },
      "source": [
        "Matrizes são vetores de vetores:"
      ]
    },
    {
      "cell_type": "code",
      "metadata": {
        "id": "o-5gJ8EpkOOx"
      },
      "source": [
        "A = np.array([[1, 2, 3], [4, 5, 6], [7, 8, 9]])\t#matriz 3 por 3\n",
        "print(A)\n",
        "B = np.eye(3,3)\t\t#matriz identidade 3x3\n",
        "print(B)\n",
        "M = A.dot(B)\n",
        "print(M)\n",
        "v = x.dot(A)\t\t#podemos multiplicar vetor por matriz. o x vem do trecho de codigo anterior\n",
        "print('Multiplicando o vetor ', x, 'pela matriz\\n', A,'\\nobtemos ',v)\n",
        "v = np.linspace(0,1,10) #cria vetor que vai de 0 até 1 com 10 elementos\n",
        "print(v)\n",
        "print(v[0]+v[5])\t\t#acessando elementos do vetor \n",
        "print(A[1,2] + B[1][1])\t#acessando elementos da matriz: duas formas\n"
      ],
      "execution_count": null,
      "outputs": []
    },
    {
      "cell_type": "markdown",
      "metadata": {
        "id": "hzZb7RsgkWe3"
      },
      "source": [
        " Note que as posições de um vetor vão de 0 a n-1. Ao tentar acessar um vetor ou matriz em uma posição inválida, recebemos um erro."
      ]
    },
    {
      "cell_type": "code",
      "metadata": {
        "id": "SfFk-4NGkl5H"
      },
      "source": [
        "A[3,3]\t\t\t#indice errado"
      ],
      "execution_count": null,
      "outputs": []
    },
    {
      "cell_type": "markdown",
      "metadata": {
        "id": "KeTd1oslK6GY"
      },
      "source": [
        "Tambem é possível acessar linhas e colunas de uma matriz:"
      ]
    },
    {
      "cell_type": "code",
      "metadata": {
        "id": "Ro2sFlRdK-52"
      },
      "source": [
        "print(A[0,:]) #primeira linha e todas as colunas\n",
        "print(A[:,1]) #todas as linhas da coluna 1. Retorno como linha\n",
        "print(A[:,1:2]) #todas as linhas da coluna 1 até a coluna 1 (2-1). retorno como coluna\n",
        "print(A[:,1:3]) #todas as linhas e colunas da 1 até a coluna 3-1 = 2\n",
        "print(A[0:2,2]) #linhas 0 até 2-1 = 1, coluna 2"
      ],
      "execution_count": null,
      "outputs": []
    },
    {
      "cell_type": "markdown",
      "metadata": {
        "id": "RxNpJilQnkoz"
      },
      "source": [
        "## **Formatando saída:**\n",
        "\n",
        "É possível especificar o número de digitos a serem impressos com o comando format. Isto pode nos mostrar os erros de arredondamento existentes em máquinas com sistemas de ponto flutuante:"
      ]
    },
    {
      "cell_type": "code",
      "metadata": {
        "id": "oX58Y2zFoJuJ"
      },
      "source": [
        "#em binário, 0.1 não é representado exatamente\n",
        "print(1/10) #impressao padrao. parece perfeito\n",
        "\n",
        "'{:.25f}'.format(1/10) #imprimir as respostas com 20 casas decimais"
      ],
      "execution_count": null,
      "outputs": []
    },
    {
      "cell_type": "markdown",
      "metadata": {
        "id": "TBZVSl_bfcSq"
      },
      "source": [
        "Se as variáveis foram da biblioteca numpy, devemos utilzar o segunte comando (pode ser logo após importar a a bilioteca):"
      ]
    },
    {
      "cell_type": "code",
      "metadata": {
        "id": "WlFSQnW0f4v9"
      },
      "source": [
        "import numpy as np\t\n",
        "np.set_printoptions(precision=15, suppress=True) #maximo 15 digitos, sem notação científica\n",
        "\n",
        "x = np.array([1/10, 2/7, 3.7, np.pi])\t\n",
        "print(x)"
      ],
      "execution_count": null,
      "outputs": []
    },
    {
      "cell_type": "markdown",
      "metadata": {
        "id": "MwQdvz9Zf9QH"
      },
      "source": [
        "Recomendamos utiilzar 8 casas, que é o padrão, para o desenvolvimento dos códigos da disciplina, assim como sem notação científica, ou seja: np.set_printoptions(precision=8, suppress=True), ."
      ]
    },
    {
      "cell_type": "markdown",
      "metadata": {
        "id": "uXXZme3joLoU"
      },
      "source": [
        "## **Gráficos e imagens**\n",
        "\n",
        "Para plotar gráficos iremos utilizar a biblioteca matplotlib."
      ]
    },
    {
      "cell_type": "code",
      "metadata": {
        "id": "4PGxhs0MxwKI",
        "colab": {
          "base_uri": "https://localhost:8080/",
          "height": 530
        },
        "outputId": "5d23ea9e-801a-4927-f146-577ab6239a3d"
      },
      "source": [
        "import numpy as np\n",
        "import matplotlib.pyplot as plt\n",
        "\n",
        "x = np.linspace(0.1,6,100)\t#cria o vetor x de 0.1 a 6 com 100 elementos\n",
        "y = np.sin(x)+2\t\t#cria o vetor y de acordo com a função seno\n",
        "plt.plot(x,y)\t\t\t#plota x por y (gera gráfico)\n",
        "z = np.cos(x)\n",
        "plt.plot(x,z,'ks')\t\t#plota em verde com traço e ponto\n",
        "w=np.exp(x)\t\t\n",
        "plt.figure()\t\t\t#nova figura\n",
        "plt.plot(x,w,'s')\t#plota em quadrados vermelhos( r- red, s - #square)"
      ],
      "execution_count": null,
      "outputs": [
        {
          "output_type": "execute_result",
          "data": {
            "text/plain": [
              "[<matplotlib.lines.Line2D at 0x7f2af8855110>]"
            ]
          },
          "metadata": {},
          "execution_count": 3
        },
        {
          "output_type": "display_data",
          "data": {
            "text/plain": [
              "<Figure size 432x288 with 1 Axes>"
            ],
            "image/png": "[encoded data removed]"
          },
          "metadata": {
            "needs_background": "light"
          }
        },
        {
          "output_type": "display_data",
          "data": {
            "text/plain": [
              "<Figure size 432x288 with 1 Axes>"
            ],
            "image/png": "[encoded data removed]"
          },
          "metadata": {
            "needs_background": "light"
          }
        }
      ]
    },
    {
      "cell_type": "markdown",
      "metadata": {
        "id": "MS35j0i-x2uR"
      },
      "source": [
        "Tal biblioteca tambem permite trabalhar com imagens:"
      ]
    },
    {
      "cell_type": "code",
      "metadata": {
        "id": "p3lsa3Y5yGAD"
      },
      "source": [
        "import matplotlib.pyplot as plt\n",
        "\n",
        "img = plt.imread(\"frame1.jpg\")\t#garanta que o arquivo existe na pasta do script\n",
        "t = img.shape\n",
        "print('tamanho imagem: ', t)\n",
        "fig, ax = plt.subplots(figsize=(15, 15))\n",
        "ax.imshow(img, extent=[0, t[1], 0, t[0]]) #mudar escala e a orientação dos eixos\n",
        "ax.plot(330, 120, '.', linewidth=5, markersize=20, color='r') #ponto vermelho sobre img"
      ],
      "execution_count": null,
      "outputs": []
    },
    {
      "cell_type": "markdown",
      "metadata": {
        "id": "uSxItaskymRq"
      },
      "source": [
        "## **Funções**\n",
        "\n",
        "É possível definir funções que recebem parametros e retornam resultados. Lembrar que dentro da função não podemos acessar variáveis que foram criadas fora desta. As variaveis devem ser ou recebidas como argumentos ou criadas dentro da funcao.\n",
        "\n",
        "**Obs: em python não existe marcador para o fim de um bloco de código (no nosso caso, o termino de uma definição de função). Isso é feito através da identação.**"
      ]
    },
    {
      "cell_type": "code",
      "source": [
        "from google.colab import files\n",
        "\n",
        "uploaded = files.upload()\n",
        "img = plt.imread('cnlabatt.jpg')\n",
        "\n",
        "t = img.shape\n",
        "print(100, t)\n",
        "\n"
      ],
      "metadata": {
        "id": "4qQXgeYGEoam"
      },
      "execution_count": null,
      "outputs": []
    },
    {
      "cell_type": "code",
      "metadata": {
        "id": "axhYrCTpy-4k"
      },
      "source": [
        "def func(x):\t\t# função com um argumento\n",
        "    return x**2 - 4\t#e com um retorno\n",
        "\t\n",
        "\n",
        "#chamada da funcao\n",
        "print(func(3))\n",
        "y = 2\n",
        "print(func(y))\n",
        "w = func(y+2)\n",
        "print(w)"
      ],
      "execution_count": null,
      "outputs": []
    },
    {
      "cell_type": "markdown",
      "metadata": {
        "id": "UVm-kJyqz3El"
      },
      "source": [
        "É possível receber vários argumentos e retornar vários resutlados:"
      ]
    },
    {
      "cell_type": "code",
      "metadata": {
        "id": "VMkkn3KBz9b9"
      },
      "source": [
        "def func3args(x,y,z):\t\t#funcao com 3 args\n",
        "    a = func(x);  #função fun previamente definida\n",
        "    b = func(y);\n",
        "    c = func(func(z));\n",
        "    return (a,b,c)\n",
        "r = func3args(1,2,3)\n",
        "print(r)\n",
        "[j,k,l] = func3args(1,2,3)\t#chama a funcao e guarda  a saida nas variaveis #j, k e l\n",
        "print('saidas: ', j, k, l)"
      ],
      "execution_count": null,
      "outputs": []
    },
    {
      "cell_type": "markdown",
      "metadata": {
        "id": "oHkw6D7G0WcZ"
      },
      "source": [
        "## **Estruturas de Controle**\n",
        "\n",
        "Prestar sempre atenção à identação!"
      ]
    },
    {
      "cell_type": "code",
      "metadata": {
        "id": "CZIf_b2s0ilA"
      },
      "source": [
        "#Comando If\n",
        "y = int(input(\"digite o valor (inteiro) de y: \"))\n",
        "x = int(input(\"digite o valor (inteiro) de x: \"))\n",
        "if x == y :\n",
        "  print('o valor de x é igual ao valor de y')\t#imprime mensagem na tela\n",
        "else:\n",
        "  print('o valor de x é diferente do valor de y')\n",
        "print('acabou o else, pois a identação recuou')"
      ],
      "execution_count": null,
      "outputs": []
    },
    {
      "cell_type": "code",
      "metadata": {
        "id": "JkMUXMY50oEU"
      },
      "source": [
        "#Comando while\n",
        "cont = 0\n",
        "while cont != 5:\t\t#enquanto cont diferente de 5\n",
        "    print('iteracao numero  ', cont)\t\n",
        "    cont +=1\n",
        "print('acabou o while')"
      ],
      "execution_count": null,
      "outputs": []
    },
    {
      "cell_type": "code",
      "metadata": {
        "id": "b8I5Gsp30p7o"
      },
      "source": [
        "#Comando for\n",
        "import numpy as np\n",
        "\n",
        "y = range(10,20,2)  #de 10 até 20, incremento de 2\n",
        "for z in y:\n",
        "    print('z=', z)\n",
        "print(\"acabou\")\n",
        "\n",
        "a = np.linspace(0,10,21) #de 0 a 10 com 21 pontos\n",
        "for x in a:\n",
        "    print(x)\n",
        "\n",
        "for i in range(1,10): #de 1 a 10 com incremento padrao (1)\n",
        "\t    if i%2 == 0:\n",
        "\t        print('o numero  ', i, ' eh par')\t\n",
        "\t    else:\n",
        "\t        print('o numero  ', i,  ' eh impar')\t"
      ],
      "execution_count": null,
      "outputs": []
    },
    {
      "cell_type": "markdown",
      "metadata": {
        "id": "N7pzFqlWuluO"
      },
      "source": [
        "## **Entrada de dados**\n",
        "\n",
        "Uma forma mais eficiente de entrar com dados de vetores e matrizes é digitar todos os elementos, separador por vírgula, em uma unica linha, e em seguida fazer o tratamento de tais dados."
      ]
    },
    {
      "cell_type": "code",
      "metadata": {
        "id": "nCHvOz8buvzd"
      },
      "source": [
        "import numpy as np\n",
        "np.set_printoptions(precision=8, suppress=True)\n",
        "print(\"Digite os elementos do vetor, separados por vírgula: \")\n",
        "texto=input()\n",
        "a=texto.split(',')\n",
        "x=np.empty([len(a)],dtype=float)\n",
        "for i in range(len(a)): #de 0 a n-1, onde n eh o numero de elementos de a\n",
        "  x[i]=float(a[i])\n",
        "print(x)\n",
        "\n",
        "print(\"Digite os elementos de uma matriz 3x3, separados por vírgula: \")\n",
        "texto=input()\n",
        "a=texto.split(',')\n",
        "m=np.empty([3,3],dtype=float)\n",
        "for i in range(3):\n",
        "  for j in range(3):\n",
        "    m[i,j]=float(a[i*3+j])\n",
        "print(m)"
      ],
      "execution_count": null,
      "outputs": []
    },
    {
      "cell_type": "markdown",
      "metadata": {
        "id": "vF-0ssM-0tPb"
      },
      "source": [
        "## **Tarefas**\n",
        "\n",
        "\n",
        "1.   Escreva uma função que plote o gráfico da função $x\\cdot cos(x) + x^2$ no intervalo de zero a $2\\pi$\n",
        "\n",
        "2.   Escreva uma função que receba 2 pontos 2D (cada um com suas cordenadas x e y)  e retorne a distancia euclididana entre eles.\n",
        "\n",
        "3.   Escreva uma função que calcule o seno de um angulo utilizando a expansão em série de Taylor. O usuário deve passar como argumento o ângulo e o número de termos da série de Taylor a serem utilizados. A função deve retornar o valor do seno calculado, o valor do seno dado pela função sin(x) que já existe na biblioteca numpy do python, e o erro relativo cometido no seu calculo quando comparado com o valor dado pela função do scilab.\n",
        "\n",
        "\\begin{equation}\n",
        "sen(x)=x-x^3/3!+x^5/5!-x^7/7!+⋯\n",
        "\\end{equation}\n",
        "\n",
        "\t\n",
        "4.    Crie uma função que chama a sua função seno escrita no exercício anterior, para um determinado ângulo mas para vários números de termos da série de Taylor diferentes (isto é, variando apenas o segundo argumento). Armazene o valor calculado e o erro relativo em um vetor, e em seguida plote dois gráficos: um que mostra o valor real do seno e o valor do seno calculado para cada números de termos da série de Taylor; outro que mostra a evolução do erro relativo vs números de termos da série de Taylor.\n",
        "\n"
      ]
    }
  ]
}