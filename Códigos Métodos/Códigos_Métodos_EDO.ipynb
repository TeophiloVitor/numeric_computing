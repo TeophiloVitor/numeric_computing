{
  "nbformat": 4,
  "nbformat_minor": 0,
  "metadata": {
    "colab": {
      "provenance": []
    },
    "kernelspec": {
      "name": "python3",
      "display_name": "Python 3"
    },
    "language_info": {
      "name": "python"
    }
  },
  "cells": [
    {
      "cell_type": "markdown",
      "metadata": {
        "id": "orqB06Lb6OGl"
      },
      "source": [
        "# **Metodo de Euler**"
      ]
    },
    {
      "cell_type": "code",
      "metadata": {
        "id": "4-BZ2L6q6TYD"
      },
      "source": [
        "import numpy as np\n",
        "\n",
        "def f(x,y):\n",
        "  return (-1.2*y)+(7*np.exp(-0.3*x))\n",
        "\n",
        "def Euler(y0,a,b,h):\n",
        "  n = (b-a)/h\n",
        "  n = int(n)\n",
        "  x = np.arange(a,(b+h),h)\n",
        "  y = np.zeros(n+1)\n",
        "  y[0] = y0\n",
        "  for i in range(0,n,1):\n",
        "    k = f(x[i],y[i])\n",
        "    y[i+1] = y[i]+k*h\n",
        "  return x,y\n",
        "\n",
        "print(Euler(3,0,2.5,0.5))\n",
        "\n"
      ],
      "execution_count": null,
      "outputs": []
    },
    {
      "cell_type": "markdown",
      "metadata": {
        "id": "YfzsCzSOIc2B"
      },
      "source": [
        "# **Método de Heun**"
      ]
    },
    {
      "cell_type": "code",
      "metadata": {
        "id": "oWbH8tQ8IfX1"
      },
      "source": [
        "import numpy as np\n",
        "\n",
        "def f(x,y):\n",
        "  return (-1.2*y)+(7*np.exp(-0.3*x))\n",
        "\n",
        "def Heun(y0,a,b,h):\n",
        "  n = (b-a)/h\n",
        "  n = int(n)\n",
        "  x = np.arange(a,(b+h),h)\n",
        "  y = np.zeros(n+1)\n",
        "  y[0] = y0\n",
        "  for i in range(0,n,1):\n",
        "    k1 = f(x[i],y[i])\n",
        "    k2 = f((x[i] + h), (y[i] + (k1*h)))\n",
        "    k = (k1+k2)/2\n",
        "    y[i+1] = y[i]+k*h\n",
        "  return x,y\n",
        "\n",
        "print(Heun(3,0,2.5,0.5))\n"
      ],
      "execution_count": null,
      "outputs": []
    },
    {
      "cell_type": "markdown",
      "metadata": {
        "id": "TKnUi4Oh0_NS"
      },
      "source": [
        "# **Ponto Médio**"
      ]
    },
    {
      "cell_type": "code",
      "metadata": {
        "id": "iZapHYEDIcX0"
      },
      "source": [
        "import numpy as np\n",
        "\n",
        "def f(x,y):\n",
        "  return (-1.2*y)+(7*np.exp(-0.3*x))\n",
        "\n",
        "def PMedio(y0,a,b,h):\n",
        "  n = (b-a)/h\n",
        "  n = int(n)\n",
        "  x = np.arange(a,(b+h),h)\n",
        "  y = np.zeros(n+1)\n",
        "  y[0] = y0\n",
        "  for i in range(0,n,1):\n",
        "    k1 = f(x[i],y[i])\n",
        "    k2 = f(x[i] + (h/2), y[i] + k1*h/2)\n",
        "    y[i+1] = y[i]+k2*h\n",
        "  return x,y\n",
        "\n",
        "print(PMedio(3,0,2.5,0.5))\n"
      ],
      "execution_count": null,
      "outputs": []
    },
    {
      "cell_type": "markdown",
      "metadata": {
        "id": "CiiS1mF-KmCj"
      },
      "source": [
        "# **Método RK4**"
      ]
    },
    {
      "cell_type": "code",
      "metadata": {
        "id": "YZEpKYVoKwGj"
      },
      "source": [
        "import numpy as np\n",
        "\n",
        "def f(x,y):\n",
        "  return y*(np.cos(x)**2)\n",
        "\n",
        "def RK4(y0,a,b,h):\n",
        "  n = (b-a)/h\n",
        "  n = int(n)\n",
        "  x = np.arange(a,(b+h),h)\n",
        "  y = np.zeros(n+1)\n",
        "  y[0] = y0\n",
        "  for i in range(0,n,1):\n",
        "    k1 = f(x[i],y[i])\n",
        "    k2 = f(x[i] + (h/2), y[i] + k1*h/2)\n",
        "    k3 = f(x[i] + (h/2), y[i] + k2*h/2)\n",
        "    k4 = f(x[i] + h, y[i] + k3*h)\n",
        "    k = (k1+2*k2+2*k3+k4)/6\n",
        "    y[i+1] = y[i]+k*h\n",
        "  return x,y\n",
        "\n",
        "print(RK4(2.1,1.3,2.5,0.6))"
      ],
      "execution_count": null,
      "outputs": []
    }
  ]
}