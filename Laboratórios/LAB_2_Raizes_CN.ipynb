{
  "nbformat": 4,
  "nbformat_minor": 0,
  "metadata": {
    "colab": {
      "provenance": [],
      "collapsed_sections": [
        "Y-P24J4302Jn",
        "ASTS1c_s37Hc",
        "GtFK9YC139aV",
        "9uN7LEfi5lau",
        "O8J9k4_x6Xbt",
        "sC_t_Wgr7tLf",
        "QqKOlgetAhkm",
        "4T3cUK_Y_mNt"
      ]
    },
    "kernelspec": {
      "name": "python3",
      "display_name": "Python 3"
    },
    "language_info": {
      "name": "python"
    }
  },
  "cells": [
    {
      "cell_type": "markdown",
      "source": [
        "# **Dados do Experimento**\n",
        "\n",
        "\n",
        "\n",
        "\n"
      ],
      "metadata": {
        "id": "Y-P24J4302Jn"
      }
    },
    {
      "cell_type": "markdown",
      "source": [
        "(y1 = 1012; y2 = 1058; y3 = 1238; y4 = 403)\n",
        "\n",
        "(t1 = 2.366, t2 = 2.399, t3 = 2.699, t4 = 3.297)"
      ],
      "metadata": {
        "id": "ow8WLz_3JdVO"
      }
    },
    {
      "cell_type": "markdown",
      "source": [
        "\n",
        "\n",
        "---\n",
        "### Importando as bibliotecas e armazenando as contantes "
      ],
      "metadata": {
        "id": "ASTS1c_s37Hc"
      }
    },
    {
      "cell_type": "code",
      "source": [
        "import numpy as np\n",
        "import matplotlib.pyplot as plt\n",
        "\n",
        "# Alturas \n",
        "h0 = 985\n",
        "h2= 1031\n",
        "h3 = 326\n",
        "\n",
        "# Velocidade Inicial\n",
        "v0 = 1393.94\n",
        "\n",
        "# Aceleração\n",
        "acel = -4856.93\n",
        "\n",
        "# Recebe o tempo e retorna altura\n",
        "def funcao(t):\n",
        "  h = h0 + v0*t + (acel*(t**2))/2\n",
        "  return h\n",
        "\n",
        "# Recebe: Tempo\n",
        "# Retorna: Velocidade instant\n",
        "\n",
        "def e_funcao(t):\n",
        "  v = v0 + acel*t\n",
        "  return v\n",
        "\n",
        "# função para encontrar o x_max por método de Newton\n",
        "def e_newton(x0,e,N):\n",
        "  x = x0\n",
        "  it = 0\n",
        "  erro = 1\n",
        "\n",
        "  while (it < N) and (erro > e) :\n",
        "\n",
        "    x_antigo = x\n",
        "    x = x_antigo - e_funcao(x_antigo)/acel\n",
        "    erro = abs((x-x_antigo)/x) \n",
        "\n",
        "    it += 1 \n",
        "\n",
        "  return x,erro,it \n",
        "\n",
        "\n",
        "# Criando vetores para os eixos x e y\n",
        "tempo_x = np.linspace(0,1.150,100)\n",
        "altura_y = np.zeros(np.size(tempo_x))\n",
        "\n",
        "cont = 0\n",
        "for i in tempo_x:\n",
        "  v1 = funcao(i)\n",
        "  altura_y[cont] = v1\n",
        "  cont += 1\n",
        "\n",
        "# Encontrando o y_max\n",
        "x, e, i = e_newton(0.3,10**(-3),2) \n",
        "y = funcao(x)\n",
        "vy = np.linspace(y,y,np.size(tempo_x))\n",
        "\n",
        "# Plotando o gráfico do espaço em função do tempo\n",
        "plt.plot(tempo_x,altura_y)\n",
        "plt.plot(tempo_x,vy)\n",
        "plt.title(\"Gráfico da Função MUV\",fontsize=15)\n",
        "plt.xlabel(\"Tempo(s)\",fontsize=11)\n",
        "plt.ylabel(\"Altura(pixel)\",fontsize=11)\n",
        "plt.xlim(0,1.1)\n",
        "plt.ylim(0,h2)\n",
        "plt.plot(acel,0)"
      ],
      "metadata": {
        "id": "J03nFwUU3__f",
        "colab": {
          "base_uri": "https://localhost:8080/",
          "height": 315
        },
        "outputId": "1b5599b6-194f-41bf-a9d3-e7e34f1d4031"
      },
      "execution_count": null,
      "outputs": [
        {
          "output_type": "execute_result",
          "data": {
            "text/plain": [
              "[<matplotlib.lines.Line2D at 0x7f1b9a9cb190>]"
            ]
          },
          "metadata": {},
          "execution_count": 1
        },
        {
          "output_type": "display_data",
          "data": {
            "text/plain": [
              "<Figure size 432x288 with 1 Axes>"
            ],
            "image/png": "[encoded data removed]"
          },
          "metadata": {
            "needs_background": "light"
          }
        }
      ]
    },
    {
      "cell_type": "markdown",
      "source": [
        "\n",
        "\n",
        "---\n",
        "\n"
      ],
      "metadata": {
        "id": "9S30h3eyAv5t"
      }
    },
    {
      "cell_type": "markdown",
      "source": [
        "# Método da Bisseção"
      ],
      "metadata": {
        "id": "O8J9k4_x6Xbt"
      }
    },
    {
      "cell_type": "code",
      "execution_count": null,
      "metadata": {
        "id": "u-QuY-CPoS4h",
        "colab": {
          "base_uri": "https://localhost:8080/"
        },
        "outputId": "81b03da0-888f-4cf8-be79-776f69b03ff6"
      },
      "outputs": [
        {
          "output_type": "stream",
          "name": "stdout",
          "text": [
            "Raiz: 0.9664999999999999\n",
            "Erro Relativo: 0.0005173305742369954\n",
            "Número de iterações: 1\n",
            "\n",
            "Ponto máximo: \n",
            "t: 0.39960937500000004 h: 1154.2356169456482\n",
            "Erro Relativo: 0.0009775171065494479\n",
            "Número de iterações: 8\n"
          ]
        }
      ],
      "source": [
        "# Recebe: Intervalo de valores, Erro máximo, Número max de iterações\n",
        "# Retorna: Raiz, Erro relativo, Iterações\n",
        "\n",
        "def bissecao(a,b,e,N):\n",
        "  x = a\n",
        "  it = 0\n",
        "  erro = 1\n",
        "\n",
        "  while (it < N) and (erro > e) :\n",
        "\n",
        "    x_antigo = x\n",
        "    x = (a+b)/2\n",
        "    erro = abs((x-x_antigo)/x) \n",
        "\n",
        "    if funcao(a)*funcao(x) < 0:\n",
        "      b = x\n",
        "    else:\n",
        "      a = x\n",
        "    it += 1 \n",
        "\n",
        "  return x,erro,it\n",
        "\n",
        "def e_bissecao(a,b,e,N):\n",
        "  x = a\n",
        "  it = 0\n",
        "  erro = 1\n",
        "\n",
        "  while (it < N) and (erro > e) :\n",
        "\n",
        "    x_antigo = x\n",
        "    x = (a+b)/2\n",
        "    erro = abs((x-x_antigo)/x) \n",
        "\n",
        "    if e_funcao(a)*e_funcao(x) < 0:\n",
        "      b = x\n",
        "    else:\n",
        "      a = x\n",
        "    it += 1 \n",
        "\n",
        "  return x,erro,it\n",
        " \n",
        "# Valores Obtidos \n",
        "# a = 0.967; b = 0.967; Erro máximo = 10^(-3); Max iteração = 9\n",
        "\n",
        "x, erro, it = bissecao(0.967,0.966,10**(-3),9) \n",
        "\n",
        "print(\"Raiz:\",x)\n",
        "print(\"Erro Relativo:\", erro)\n",
        "print(\"Número de iterações:\", it)\n",
        "\n",
        "# Encontrando o x_max e y_max\n",
        "x_max, e, i = e_bissecao(0.3,0.4,10**(-3),9) \n",
        "y_max = funcao(x_max)\n",
        "\n",
        "print()\n",
        "print(\"Ponto máximo: \")\n",
        "print(\"t:\",x_max,\"h:\",y_max)\n",
        "print(\"Erro Relativo:\", e)\n",
        "print(\"Número de iterações:\", i)\n"
      ]
    },
    {
      "cell_type": "markdown",
      "source": [
        "# Método da Falsa-Posição"
      ],
      "metadata": {
        "id": "sC_t_Wgr7tLf"
      }
    },
    {
      "cell_type": "code",
      "source": [
        "# Definindo a função de Falsa-Posição\n",
        "def falsa_posi(x0,x1,e,N):\n",
        "  \n",
        "  x_a0 = x0\n",
        "  x = x1\n",
        "  it = 0\n",
        "  erro = 1\n",
        "\n",
        "  while (it < N) and (erro > e) :\n",
        "\n",
        "    x_a1 = x_a0\n",
        "    x_a0 = x\n",
        "    x = x_a0 - funcao(x_a0)*(x_a1 - x_a0)/(funcao(x_a1)-funcao(x_a0))\n",
        "    erro = abs((x-x_a1)/x) \n",
        "\n",
        "    it += 1 \n",
        "\n",
        "  return x,erro,it\n",
        "\n",
        "# Valores Obtidos \n",
        "x, erro, it = falsa_posi(0.967,0.966,10**(-3),4)\n",
        "print(\"Tempo: \",x)\n",
        "print(\"Numero de interacoes: \", it)\n",
        "print(\"Erro: \", erro)\n",
        "\n",
        "# Criando vetores para os eixos x e y\n",
        "tempo_x = np.linspace(0,1.150,100)\n",
        "altura_y = np.zeros(np.size(tempo_x))\n",
        "\n",
        "cont = 0\n",
        "for i in tempo_x:\n",
        "  v1 = funcao(i)\n",
        "  altura_y[cont] = v1\n",
        "  cont += 1\n",
        "\n",
        "# Plotando o gráfico do espaço em função do tempo\n",
        "plt.plot(tempo_x,altura_y)\n",
        "plt.title(\"Gráfico da Função MUV\",fontsize=15)\n",
        "plt.xlabel(\"Tempo(s)\",fontsize=11)\n",
        "plt.ylabel(\"Altura(pixel)\",fontsize=11)\n",
        "plt.xlim(0,1.1)\n",
        "plt.ylim(0,h2)\n"
      ],
      "metadata": {
        "id": "rMSgnOZ7rooH",
        "colab": {
          "base_uri": "https://localhost:8080/",
          "height": 367
        },
        "outputId": "c432a0e2-09e8-46b9-8aa3-eff3c09d0c3f"
      },
      "execution_count": null,
      "outputs": [
        {
          "output_type": "stream",
          "name": "stdout",
          "text": [
            "Tempo:  0.9855523972678658\n",
            "Numero de interacoes:  3\n",
            "Erro:  0.000270833402837797\n"
          ]
        },
        {
          "output_type": "execute_result",
          "data": {
            "text/plain": [
              "(0.0, 1031.0)"
            ]
          },
          "metadata": {},
          "execution_count": 14
        },
        {
          "output_type": "display_data",
          "data": {
            "text/plain": [
              "<Figure size 432x288 with 1 Axes>"
            ],
            "image/png": "[encoded data removed]"
          },
          "metadata": {
            "needs_background": "light"
          }
        }
      ]
    },
    {
      "cell_type": "markdown",
      "source": [
        "# Método de Newton"
      ],
      "metadata": {
        "id": "QqKOlgetAhkm"
      }
    },
    {
      "cell_type": "code",
      "source": [
        "# Recebe: Valor de x0, Erro máximo, Número max de iterações\n",
        "# Retorna: Raiz, Erro relativo, Iterações\n",
        "\n",
        "def newton(x0,e,N):\n",
        "  x = x0\n",
        "  it = 0\n",
        "  erro = 1\n",
        "\n",
        "  while (it < N) and (erro > e) :\n",
        "\n",
        "    x_antigo = x\n",
        "    x = x_antigo - funcao(x_antigo)/e_funcao(x_antigo)\n",
        "    erro = abs((x-x_antigo)/x) \n",
        "\n",
        "    it += 1 \n",
        "\n",
        "  return x,erro,it "
      ],
      "metadata": {
        "id": "puIYWNz3rykX"
      },
      "execution_count": null,
      "outputs": []
    },
    {
      "cell_type": "code",
      "source": [
        "# função para encontrar o x_max por método de Newton\n",
        "def e_newton(x0,e,N):\n",
        "  x = x0\n",
        "  it = 0\n",
        "  erro = 1\n",
        "\n",
        "  while (itera < N) and (erro > e) :\n",
        "\n",
        "    x_antigo = x\n",
        "    x = x_antigo - e_funcao(x_antigo)/acel\n",
        "    erro = abs((x-x_antigo)/x) \n",
        "\n",
        "    it += 1 \n",
        "\n",
        "  return x,erro,it \n"
      ],
      "metadata": {
        "id": "3r_fNxREYUtx"
      },
      "execution_count": null,
      "outputs": []
    },
    {
      "cell_type": "markdown",
      "source": [
        "### Resultado | Método de Newton"
      ],
      "metadata": {
        "id": "r7wBJHPN_W8X"
      }
    },
    {
      "cell_type": "code",
      "source": [
        "# Valores Obtidos \n",
        "\n",
        "# Encontrando a raiz\n",
        "# x0 = 1; Erro máximo = 10^(-3); Max iteração = 3\n",
        "\n",
        "x, erro, itera = newton(1,10**(-3),3)\n",
        "\n",
        "print(\"Tempo: \",x)\n",
        "print(\"Numero de interacoes: \", itera)\n",
        "print(\"Erro: \", erro)\n",
        "\n",
        "# Encontrando o x_max e y_max\n",
        "\n",
        "x_max, e, i = e_newton(0.3,10**(-3),2) \n",
        "y_max = funcao(x_max)\n",
        "\n",
        "print()\n",
        "print(\"Ponto máximo: \")\n",
        "print(\"t:\",x_max,\"h:\",y_max)\n",
        "print(\"Erro Relativo:\", e)\n",
        "print(\"Número de iterações:\", i)"
      ],
      "metadata": {
        "colab": {
          "base_uri": "https://localhost:8080/"
        },
        "id": "0qMAT2Sg_EOt",
        "outputId": "48bebf29-d77d-4589-c351-3dab3fd98065"
      },
      "execution_count": null,
      "outputs": [
        {
          "output_type": "stream",
          "name": "stdout",
          "text": [
            "Tempo:  0.9855524133243052\n",
            "Numero de interacoes:  2\n",
            "Erro:  0.00014850700170293123\n",
            "\n",
            "Ponto máximo: \n",
            "t: 0.3 h: 1184.62015\n",
            "Erro Relativo: 1\n",
            "Número de iterações: 0\n"
          ]
        }
      ]
    },
    {
      "cell_type": "markdown",
      "source": [
        "\n",
        "\n",
        "------\n"
      ],
      "metadata": {
        "id": "G1wTtOmqAYue"
      }
    },
    {
      "cell_type": "markdown",
      "source": [
        "# Método da Secante"
      ],
      "metadata": {
        "id": "4T3cUK_Y_mNt"
      }
    },
    {
      "cell_type": "code",
      "source": [
        "# Recebe: Valor de x0, valor de x1, Erro máximo, Número max de iterações\n",
        "# Retorna: Raiz, Erro relativo, Iterações\n",
        "\n",
        "def secante(x0,x1,e,N):\n",
        "  \n",
        "  x_a1 = x0\n",
        "  x = x1\n",
        "  itera = 0\n",
        "  erro = 1\n",
        "\n",
        "  while (itera < N) and (erro > e) :\n",
        "\n",
        "    x_a2 = x_a1\n",
        "    x_a1 = x\n",
        "    x = x_a1 - funcao(x_a1)*(x_a2 - x_a1)/(funcao(x_a2)-funcao(x_a1))\n",
        "    erro = abs((x-x_a1)/x) \n",
        "\n",
        "    itera += 1 \n",
        "\n",
        "  return x,erro,itera \n"
      ],
      "metadata": {
        "id": "FdJyLCWQtvpm"
      },
      "execution_count": null,
      "outputs": []
    },
    {
      "cell_type": "code",
      "source": [
        "def e_secante(x0,x1,e,N):\n",
        "  \n",
        "  x_a0 = x0\n",
        "  x = x1\n",
        "  it = 0\n",
        "  erro = 1\n",
        "\n",
        "  while (it < N) and (erro > e) :\n",
        "\n",
        "    x_a1 = x_a0\n",
        "    x_a0 = x\n",
        "    x = x_a0 - e_funcao(x_a0)*(x_a1 - x_a0)/(e_funcao(x_a1)-e_funcao(x_a0))\n",
        "    erro = abs((x-x_a0)/x) \n",
        "\n",
        "    it += 1 \n",
        "\n",
        "  return x,erro,it"
      ],
      "metadata": {
        "id": "v2p7wznebCQh"
      },
      "execution_count": null,
      "outputs": []
    },
    {
      "cell_type": "markdown",
      "source": [
        "### Resultado | Método da Secante"
      ],
      "metadata": {
        "id": "JByFyW1jASm3"
      }
    },
    {
      "cell_type": "code",
      "source": [
        "# Valores Obtidos \n",
        "# x0 = 1; x1 = 2; Erro máximo = 10^(-3); Max iteração = 4\n",
        "\n",
        "x, erro, it = secante(0.967,0.966,10**(-3),4)\n",
        "\n",
        "print(\"Raiz:\",x)\n",
        "print(\"Erro:\", erro)\n",
        "print(\"Número de iterações:\", itera)\n",
        "\n",
        "# Encontrando o x_max e y_max\n",
        "\n",
        "x_max, e, i = e_secante(0.4,0.5,10**(-3),2) \n",
        "y_max = funcao(x_max)\n",
        "\n",
        "print()\n",
        "print(\"Ponto máximo: \")\n",
        "print(\"t:\",x_max,\"h:\",y_max)\n",
        "print(\"Erro Relativo:\", e)\n",
        "print(\"Número de iterações:\", i)"
      ],
      "metadata": {
        "colab": {
          "base_uri": "https://localhost:8080/"
        },
        "id": "FUtnippwABx-",
        "outputId": "135442ab-8a0c-49df-89f2-f428ea96127b"
      },
      "execution_count": null,
      "outputs": [
        {
          "output_type": "stream",
          "name": "stdout",
          "text": [
            "Raiz: 0.9855486101771932\n",
            "Erro: 0.00027467706544778844\n",
            "Número de iterações: 2\n",
            "\n",
            "Ponto máximo: \n",
            "t: 0.2870002244215996 h: 1185.0305464151224\n",
            "Erro Relativo: 1.9341849416017411e-16\n",
            "Número de iterações: 2\n"
          ]
        }
      ]
    },
    {
      "cell_type": "markdown",
      "source": [
        "# Resultado Geral\n",
        "\n",
        "**Momento que a bola chega ao chão**\n",
        "\n",
        "![image.png](data:image/png;base64,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)\n",
        "\n",
        "**Momento que a bola chega no ápice**\n",
        "\n",
        "![image.png](data:image/png;base64,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)"
      ],
      "metadata": {
        "id": "vFt3eyhvJc5j"
      }
    }
  ]
}