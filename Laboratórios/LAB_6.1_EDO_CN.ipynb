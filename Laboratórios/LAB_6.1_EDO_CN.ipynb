{
  "nbformat": 4,
  "nbformat_minor": 0,
  "metadata": {
    "colab": {
      "provenance": [],
      "collapsed_sections": []
    },
    "kernelspec": {
      "name": "python3",
      "display_name": "Python 3"
    },
    "language_info": {
      "name": "python"
    }
  },
  "cells": [
    {
      "cell_type": "markdown",
      "metadata": {
        "id": "LBD50A5XkB7W"
      },
      "source": [
        "## **Tempos e Alturas com EDO**"
      ]
    },
    {
      "cell_type": "code",
      "metadata": {
        "colab": {
          "base_uri": "https://localhost:8080/",
          "height": 299
        },
        "id": "n8Qx0N3_kFiF",
        "outputId": "611b476e-f6c4-4dc1-99e9-3b86b988ea63"
      },
      "source": [
        "#Rk2\n",
        "import numpy as np\n",
        "import matplotlib.pyplot as plt\n",
        "def f1(t, y, z):\n",
        "  zponto = - 5580.15\n",
        "  return zponto\n",
        "def f2(t, y, z):\n",
        "  yponto = z\n",
        "  return yponto\n",
        "\n",
        "def rk2(h):\n",
        "  alturas = [871 , 505 , 331 , 250 , 207 , 180]\n",
        "  times = [2.236 ,3.170, 3.904,4.371,4.738, 5.005]\n",
        "  coe = np.zeros([len(alturas) ])\n",
        "  t = times[0]\n",
        "  for i in range(0,len(alturas) - 1):\n",
        "    y0 = alturas[i]\n",
        "    y = y0\n",
        "    vel0 = 0\n",
        "    vel = vel0\n",
        "    while y > 0:\n",
        "      plt.plot(t, y, '.', linewidth=5, markersize=5, color='r')\n",
        "      k1y = f2(t, y, vel) \n",
        "      k1z = f1(t, y, vel) \n",
        "      k2y = f2(t + h, y + h*k1y, vel + h*k1z)\n",
        "      k2z = f1(t + h, y + h*k1y, vel + h*k1z)\n",
        "      y = y + (h/2)*(k1y + k2y)\n",
        "      vel = vel + (h/2)*(k1z + k2z)\n",
        "      t = t + h\n",
        "      velt = np.sqrt(2*5580.15*alturas[i+1])\n",
        "      k = -velt/vel\n",
        "      coe[i+1] = k\n",
        "    t = times[i+1]\n",
        "  k_medio = sum(coe)/(len(alturas)-1)\n",
        "  return k_medio\n",
        "\n",
        "print(rk2(0.1))\n",
        "\n",
        "alturas = [871 , 505 , 331 , 250 , 207 , 180]\n",
        "times = [2.236 ,3.170, 3.904,4.371,4.738, 5.005]\n",
        "plt.scatter(times,alturas)\n",
        "print(rk2(0.01))\n",
        "\n",
        "\n"
      ],
      "execution_count": null,
      "outputs": [
        {
          "output_type": "stream",
          "text": [
            "0.7801745715003058\n",
            "0.8462087285110282\n"
          ],
          "name": "stdout"
        },
        {
          "output_type": "display_data",
          "data": {
            "image/png": "[encoded data removed]",
            "text/plain": [
              "<Figure size 432x288 with 1 Axes>"
            ]
          },
          "metadata": {
            "tags": [],
            "needs_background": "light"
          }
        }
      ]
    },
    {
      "cell_type": "code",
      "metadata": {
        "id": "rtu8rS3m3OGS",
        "colab": {
          "base_uri": "https://localhost:8080/",
          "height": 316
        },
        "outputId": "46120e20-5bed-40c2-801b-c54dcebc0eb0"
      },
      "source": [
        "#Euler\n",
        "import numpy as np\n",
        "def f1(t, y, z):\n",
        "  zponto = - 5580.15\n",
        "  return zponto\n",
        "def f2(t, y, z):\n",
        "  yponto = z\n",
        "  return yponto\n",
        "t0 = 0.633\n",
        "y0 = 502\n",
        "z0 = 0\n",
        "h = 0.1\n",
        "t = t0\n",
        "y = y0\n",
        "z = z0\n",
        "while y > 0:\n",
        "  aux = y\n",
        "  y = y + h*f2(t, y, z)\n",
        "  z = z + h*f1(t, aux, z)\n",
        "  t = t + h\n",
        "\n",
        "def eule(h):\n",
        "  alturas = [871 , 505 , 331 , 250 , 207 , 180]\n",
        "  times = [2.236 ,3.170, 3.904,4.371,4.738, 5.005]\n",
        "  coe = np.zeros([len(alturas) ])\n",
        "  t = times[0]\n",
        "  for i in range(0,len(alturas) - 1):\n",
        "    y = alturas[i]\n",
        "    z = 0\n",
        "    while y > 0:\n",
        "      plt.plot(t, y, '.', linewidth=5, markersize=5, color='r')\n",
        "      aux = y\n",
        "      y = y + h*f2(t, y, z)\n",
        "      z = z + h*f1(t, aux, z)\n",
        "      t = t + h\n",
        "      velt = np.sqrt(2*5580.15*alturas[i+1])\n",
        "      k = -velt/z\n",
        "      coe[i+1] = k\n",
        "    t = times[i+1]\n",
        "  k_medio = sum(coe)/(len(alturas)-1)\n",
        "  return k_medio\n",
        "\n",
        "print(eule(0.1))\n",
        "print(eule(0.01))\n",
        "plt.scatter(times,alturas)\n",
        "\n"
      ],
      "execution_count": null,
      "outputs": [
        {
          "output_type": "stream",
          "text": [
            "0.6721858661361041\n",
            "0.8340444544837247\n"
          ],
          "name": "stdout"
        },
        {
          "output_type": "execute_result",
          "data": {
            "text/plain": [
              "<matplotlib.collections.PathCollection at 0x7f6f4b5e3b10>"
            ]
          },
          "metadata": {
            "tags": []
          },
          "execution_count": 67
        },
        {
          "output_type": "display_data",
          "data": {
            "image/png": "[encoded data removed]",
            "text/plain": [
              "<Figure size 432x288 with 1 Axes>"
            ]
          },
          "metadata": {
            "tags": [],
            "needs_background": "light"
          }
        }
      ]
    }
  ]
}